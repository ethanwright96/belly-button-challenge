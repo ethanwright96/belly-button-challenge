{
 "cells": [
  {
   "cell_type": "code",
   "execution_count": null,
   "id": "aa4a376e-2a99-4f0c-8662-d2de42a2ad03",
   "metadata": {},
   "outputs": [],
   "source": []
  }
 ],
 "metadata": {
  "kernelspec": {
   "display_name": "JavaScript (Node.js)",
   "language": "javascript",
   "name": "javascript"
  },
  "language_info": {
   "file_extension": ".js",
   "mimetype": "application/javascript",
   "name": "javascript",
   "version": "18.16.0"
  }
 },
 "nbformat": 4,
 "nbformat_minor": 5
}
